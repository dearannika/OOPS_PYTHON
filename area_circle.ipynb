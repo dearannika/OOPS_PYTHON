{
 "cells": [
  {
   "cell_type": "code",
   "execution_count": 8,
   "id": "1e8e738b",
   "metadata": {},
   "outputs": [
    {
     "name": "stdout",
     "output_type": "stream",
     "text": [
      "the area of the circle is: 28.27\n"
     ]
    }
   ],
   "source": [
    "import math\n",
    "class Circle:   #blueprint of object\n",
    "    def __init__(self,radius):  #attributes or variables\n",
    "        self.radius=radius\n",
    "        \n",
    "    def display_area(self):\n",
    "        area = math.pi * (self.radius**2)\n",
    "        print(f\"the area of the circle is: {area:.2f}\")\n",
    "        \n",
    "my_class=Circle(3)  #creating an instance of the circle\n",
    "my_class.display_area() #calling the method to diplay   \n",
    "\n",
    "        "
   ]
  },
  {
   "cell_type": "code",
   "execution_count": null,
   "id": "8d14bfcf",
   "metadata": {},
   "outputs": [],
   "source": []
  },
  {
   "cell_type": "code",
   "execution_count": null,
   "id": "1aca9351",
   "metadata": {},
   "outputs": [],
   "source": []
  }
 ],
 "metadata": {
  "kernelspec": {
   "display_name": "Python 3 (ipykernel)",
   "language": "python",
   "name": "python3"
  },
  "language_info": {
   "codemirror_mode": {
    "name": "ipython",
    "version": 3
   },
   "file_extension": ".py",
   "mimetype": "text/x-python",
   "name": "python",
   "nbconvert_exporter": "python",
   "pygments_lexer": "ipython3",
   "version": "3.11.3"
  }
 },
 "nbformat": 4,
 "nbformat_minor": 5
}
