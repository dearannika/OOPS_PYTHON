{
 "cells": [
  {
   "cell_type": "code",
   "execution_count": 3,
   "id": "f4ced3fc",
   "metadata": {},
   "outputs": [
    {
     "name": "stdout",
     "output_type": "stream",
     "text": [
      "The volume of the cone is:   209.44\n"
     ]
    }
   ],
   "source": [
    "import math\n",
    "class Cone:  #create a blueprint of the object\n",
    "    def __init__(self,radius,height): # create a atributes declaring the variables\n",
    "        self.radius = radius\n",
    "        self.height = height\n",
    "    def display_volume(self):\n",
    "        volume =(1/3) * math.pi * (self.radius ** 2) *self.height\n",
    "        print(f\"The volume of the cone is:  {volume: .2f}\")\n",
    "       \n",
    "my_class=Cone(5,8)  #create a instance of the class\n",
    "my_class.display_volume() #create a method\n",
    "    \n",
    "        "
   ]
  },
  {
   "cell_type": "code",
   "execution_count": null,
   "id": "4afd7c01",
   "metadata": {},
   "outputs": [],
   "source": []
  },
  {
   "cell_type": "code",
   "execution_count": null,
   "id": "dc41186b",
   "metadata": {},
   "outputs": [],
   "source": []
  }
 ],
 "metadata": {
  "kernelspec": {
   "display_name": "Python 3 (ipykernel)",
   "language": "python",
   "name": "python3"
  },
  "language_info": {
   "codemirror_mode": {
    "name": "ipython",
    "version": 3
   },
   "file_extension": ".py",
   "mimetype": "text/x-python",
   "name": "python",
   "nbconvert_exporter": "python",
   "pygments_lexer": "ipython3",
   "version": "3.11.3"
  }
 },
 "nbformat": 4,
 "nbformat_minor": 5
}
