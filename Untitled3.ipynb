{
 "cells": [
  {
   "cell_type": "code",
   "execution_count": null,
   "id": "9d6c118a",
   "metadata": {},
   "outputs": [],
   "source": [
    "import math\n",
    "class Cone:  #create a blueprint of the object\n",
    "    def __init__(self,radius,height): # create a atributes declaring the variables\n",
    "        self.radius = radius\n",
    "        self.height = height\n",
    "    def display_volume(self):\n",
    "        volume =(1/3)* self.pi * (self.radius * * 2)*self.height\n",
    "        print(f\"The volume of the cone is:  {volume: .2f}\")\n",
    "       \n",
    "my_class=Cone(5,8)  #create a instance of the class\n",
    "my_class.display_volume() #\n",
    "    \n",
    "        "
   ]
  }
 ],
 "metadata": {
  "kernelspec": {
   "display_name": "Python 3 (ipykernel)",
   "language": "python",
   "name": "python3"
  },
  "language_info": {
   "codemirror_mode": {
    "name": "ipython",
    "version": 3
   },
   "file_extension": ".py",
   "mimetype": "text/x-python",
   "name": "python",
   "nbconvert_exporter": "python",
   "pygments_lexer": "ipython3",
   "version": "3.11.3"
  }
 },
 "nbformat": 4,
 "nbformat_minor": 5
}
