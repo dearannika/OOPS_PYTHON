{
 "cells": [
  {
   "cell_type": "code",
   "execution_count": 1,
   "id": "d90371d7",
   "metadata": {},
   "outputs": [
    {
     "name": "stdout",
     "output_type": "stream",
     "text": [
      "The volume of the cylinder is:  301.59\n"
     ]
    }
   ],
   "source": [
    "import math\n",
    "class Cylinder:# create a blueprint of object\n",
    "    def __init__(self,radius,height):#create a constructor and declaring the variables\n",
    "        self.radius=radius\n",
    "        self.height=height\n",
    "    def display_volume(self):\n",
    "        volume = math.pi *(self.radius** 2) *self.height\n",
    "        print(f\"The volume of the cylinder is:  {volume:.2f}\")\n",
    "       \n",
    "my_class=Cylinder(4,6)   #create an instance of the class\n",
    "my_class.display_volume()  #method of the class\n",
    "        \n",
    "    \n",
    "    "
   ]
  },
  {
   "cell_type": "code",
   "execution_count": null,
   "id": "2a10a65c",
   "metadata": {},
   "outputs": [],
   "source": []
  },
  {
   "cell_type": "code",
   "execution_count": null,
   "id": "6cd29c63",
   "metadata": {},
   "outputs": [],
   "source": []
  }
 ],
 "metadata": {
  "kernelspec": {
   "display_name": "Python 3 (ipykernel)",
   "language": "python",
   "name": "python3"
  },
  "language_info": {
   "codemirror_mode": {
    "name": "ipython",
    "version": 3
   },
   "file_extension": ".py",
   "mimetype": "text/x-python",
   "name": "python",
   "nbconvert_exporter": "python",
   "pygments_lexer": "ipython3",
   "version": "3.11.3"
  }
 },
 "nbformat": 4,
 "nbformat_minor": 5
}
