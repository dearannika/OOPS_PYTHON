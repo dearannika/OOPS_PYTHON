{
 "cells": [
  {
   "cell_type": "code",
   "execution_count": 5,
   "id": "f27e1367",
   "metadata": {},
   "outputs": [
    {
     "name": "stdout",
     "output_type": "stream",
     "text": [
      "The area is: 42\n"
     ]
    }
   ],
   "source": [
    "class Rectangle:  #blueprint of object\n",
    "    def __init__(self,length,breadth):  #attributes of the class or variables\n",
    "        self.length=length\n",
    "        self.breadth=breadth\n",
    "        \n",
    "    def display_area(self):\n",
    "        area=self.length*self.breadth\n",
    "        print(f\"The area is: {area}\")\n",
    "        \n",
    "my_class= Rectangle(6,7)  #create a instance of the class\n",
    "my_class.display_area()\n",
    "    "
   ]
  },
  {
   "cell_type": "code",
   "execution_count": null,
   "id": "f12be3f3",
   "metadata": {},
   "outputs": [],
   "source": []
  },
  {
   "cell_type": "code",
   "execution_count": null,
   "id": "de725b86",
   "metadata": {},
   "outputs": [],
   "source": []
  }
 ],
 "metadata": {
  "kernelspec": {
   "display_name": "Python 3 (ipykernel)",
   "language": "python",
   "name": "python3"
  },
  "language_info": {
   "codemirror_mode": {
    "name": "ipython",
    "version": 3
   },
   "file_extension": ".py",
   "mimetype": "text/x-python",
   "name": "python",
   "nbconvert_exporter": "python",
   "pygments_lexer": "ipython3",
   "version": "3.11.3"
  }
 },
 "nbformat": 4,
 "nbformat_minor": 5
}
